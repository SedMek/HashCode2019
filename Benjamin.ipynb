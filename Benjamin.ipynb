{
 "cells": [
  {
   "cell_type": "code",
   "execution_count": 30,
   "metadata": {},
   "outputs": [],
   "source": [
    "import joblib as jb\n",
    "from classes import*\n",
    "\n",
    "#Create a set of slides following the rationale of the groupment by biggest tags\n",
    "def get_horizontals_from_collection(collection, groupby=\"average\"):\n",
    "    \n",
    "    #Create a set of vertical pictures\n",
    "    null_photo = Photo(orientation=\"\", tags=[])\n",
    "    collection_V = []\n",
    "    collection_H = []\n",
    "\n",
    "    for photo in collection:\n",
    "        if photo.orientation == \"V\":\n",
    "            collection_V.append(photo)\n",
    "        else:\n",
    "            collection_H.append(photo)\n",
    "\n",
    "    ##### Sort pictures in place by number of tags\n",
    "    collection_V.sort(key=lambda photo: len(photo.tags), reverse=True)\n",
    "    collection_H.sort(key=lambda photo: len(photo.tags), reverse=True)\n",
    "    \n",
    "    ##### generate slides\n",
    "    m = len(collection_V)\n",
    "    slides_fromVerticals = []\n",
    "    index = 0\n",
    "    if groupby == \"2by2\":\n",
    "        while index < m:\n",
    "            slides_fromVerticals.append(Slide([collection_V[index], collection_V[index+1]]))\n",
    "            index += 2\n",
    "    else:\n",
    "        if m %2 == 1:\n",
    "            collection_V = collection_V[1:]\n",
    "        for i in range(m//2):\n",
    "            slides_fromVerticals.append(Slide([collection_V[m - 1 - i], collection_V[i]]))\n",
    "    \n",
    "    slides_fromHorizontals = [Slide([photo]) for photo in collection_H]\n",
    "    jb.dump(collection_V, \"collection_V.joblib\")\n",
    "    jb.dump(collection_H, \"collection_H.joblib\")\n",
    "    jb.dump(slides_fromVerticals, \"slides_fromVerticals_{}.joblib\".format(groupby))\n",
    "    jb.dump(slides_fromHorizontals, \"slides_fromHorizontals.joblib\")\n",
    "    return slides_fromVerticals, slides_fromHorizontals\n",
    "\n",
    "def get_horizontals_from_file(groupby=\"average\"):\n",
    "    return jb.load(\"slides_fromVerticals_{}.joblib\".format(groupby)), jb.load(\"slides_fromHorizontals.joblib\")"
   ]
  },
  {
   "cell_type": "code",
   "execution_count": 31,
   "metadata": {},
   "outputs": [],
   "source": [
    "import input_output as io\n",
    "\n",
    "photos = io.read(\"c_memorable_moments.txt\")\n",
    "slides_fromVerticals, slides_fromHorizontals = get_horizontals_from_collection(photos, groupby=\"average\")"
   ]
  },
  {
   "cell_type": "code",
   "execution_count": 33,
   "metadata": {},
   "outputs": [
    {
     "data": {
      "text/plain": [
       "250"
      ]
     },
     "execution_count": 33,
     "metadata": {},
     "output_type": "execute_result"
    }
   ],
   "source": [
    "len(slides_fromVerticals)"
   ]
  },
  {
   "cell_type": "code",
   "execution_count": 34,
   "metadata": {},
   "outputs": [
    {
     "data": {
      "text/plain": [
       "500"
      ]
     },
     "execution_count": 34,
     "metadata": {},
     "output_type": "execute_result"
    }
   ],
   "source": [
    "len(slides_fromHorizontals)"
   ]
  }
 ],
 "metadata": {
  "kernelspec": {
   "display_name": "Python 3",
   "language": "python",
   "name": "python3"
  },
  "language_info": {
   "codemirror_mode": {
    "name": "ipython",
    "version": 3
   },
   "file_extension": ".py",
   "mimetype": "text/x-python",
   "name": "python",
   "nbconvert_exporter": "python",
   "pygments_lexer": "ipython3",
   "version": "3.6.6"
  }
 },
 "nbformat": 4,
 "nbformat_minor": 2
}
