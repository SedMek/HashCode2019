{
 "cells": [
  {
   "cell_type": "code",
   "execution_count": null,
   "metadata": {},
   "outputs": [],
   "source": [
    "import joblib as jb\n",
    "import classes.py\n",
    "\n",
    "#Create a set of slides following the rationale of the groupment by biggest tags\n",
    "def get_horizontals_from_collection(collection, groupby=\"average\"):\n",
    "    \n",
    "    #Create a set of vertical pictures\n",
    "    null_photo = Photo(orientation=\"\", tags=[])\n",
    "    collection_V = [null_photo]*len(collections) #allocate memory for the set of vertical pictures\n",
    "    collection_H = [null_photo]*len(collections) #allocate memory for the set of horizontal pictures\n",
    "    \n",
    "    index_V, index_H = 0, 0\n",
    "    for photo in collection:\n",
    "        if photo.orient == \"H\":\n",
    "            collection_V[index_V] = photo\n",
    "            index_V += 1\n",
    "        else:\n",
    "            collection_H[index_H] = photo\n",
    "            index_H += 1\n",
    "    collection_V = collection_V[:index_V] #dump extra memory\n",
    "    collection_H = collection_H[:index_H] #dump extra memory\n",
    "\n",
    "    ##### Sort pictures in place by number of tags\n",
    "    collection_V.sort(key=lambda photo: len(photo.tags), reverse=True)\n",
    "    collection_H.sort(key=lambda photo: len(photo.tags), reverse=True)\n",
    "    \n",
    "    ##### generate slides\n",
    "    m = len(collection_V)\n",
    "    slides_fromVerticals = [null_photo]*m\n",
    "    slide_index = 0\n",
    "    if groupby == \"2by2\":\n",
    "        while slide_index < m and index < m:\n",
    "            slides_fromVerticals[slide_index] = Slide(collection_V[index], collection_V[index+1])\n",
    "            index += 2\n",
    "            slide_index += 1\n",
    "    else:\n",
    "        if m %2 == 1:\n",
    "            collection_V = collection_V[1:]\n",
    "        for i in range(m/2):\n",
    "            slides_fromVerticals[slide_index] = Slide(collection_V[m - 1 - i], collection_V[i])\n",
    "    \n",
    "    slides_fromHorizontals = [Slide(photo) for photo in collection_H]\n",
    "    jb.dump(collection_V, \"collection_V.joblib\")\n",
    "    jb.dump(collection_H, \"collection_H.joblib\")\n",
    "    jb.dump(slides_fromVerticals, \"slides_fromVerticals_{}.joblib\".format(groupby))\n",
    "    jb.dump(slides_fromHorizontals, \"slides_fromHorizontals.joblib\")\n",
    "    return slides_fromVerticals, slides_fromHorizontals\n",
    "\n",
    "def get_horizontals_from_file(groupby=\"average\"):\n",
    "    return jb.load(\"slides_fromVerticals_{}.joblib\".format(groupby)), jb.load(\"slides_fromHorizontals.joblib)"
   ]
  }
 ],
 "metadata": {
  "kernelspec": {
   "display_name": "Python 3",
   "language": "python",
   "name": "python3"
  },
  "language_info": {
   "codemirror_mode": {
    "name": "ipython",
    "version": 3
   },
   "file_extension": ".py",
   "mimetype": "text/x-python",
   "name": "python",
   "nbconvert_exporter": "python",
   "pygments_lexer": "ipython3",
   "version": "3.6.6"
  }
 },
 "nbformat": 4,
 "nbformat_minor": 2
}
