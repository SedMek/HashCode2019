{
 "cells": [
  {
   "cell_type": "code",
   "execution_count": 42,
   "metadata": {},
   "outputs": [],
   "source": [
    "import joblib as jb\n",
    "from classes import*\n",
    "\n",
    "def write_Slideshow_to_file(slideshow, output_name = \"sexybaby.txt\"):\n",
    "    with open(output_name, \"w\") as file:\n",
    "        file.write(\"{}\\n\".format(len(slideshow.slides)))\n",
    "        for slide in slideshow.slides:\n",
    "            ID = slide.id\n",
    "            if len(ID) == 1:\n",
    "                file.write(\"{}\\n\".format(ID[0]))\n",
    "            else:\n",
    "                file.write(\"{} {}\\n\".format(ID[0], ID[1]))\n",
    "\n",
    "#Create a set of slides following the rationale of the groupment by biggest tags\n",
    "def get_horizontals_from_collection(collection, groupby=\"average\", filename=\"\"):\n",
    "    \n",
    "    #Create a set of vertical and horizontal pictures\n",
    "    null_photo = Photo(orientation=\"\", tags=[])\n",
    "    collection_V = []\n",
    "    collection_H = []\n",
    "\n",
    "    for photo in collection:\n",
    "        if photo.orientation == \"V\":\n",
    "            collection_V.append(photo)\n",
    "        else:\n",
    "            collection_H.append(photo)\n",
    "\n",
    "    ##### Sort pictures in place by number of tags\n",
    "    collection_V.sort(key=lambda photo: len(photo.tags), reverse=True)\n",
    "    collection_H.sort(key=lambda photo: len(photo.tags), reverse=True)\n",
    "    \n",
    "    ##### generate slides\n",
    "    m = len(collection_V)\n",
    "    slides_fromVerticals = []\n",
    "    index = 0\n",
    "    if groupby == \"2by2\":\n",
    "        while index < m:\n",
    "            slides_fromVerticals.append(Slide([collection_V[index], collection_V[index+1]]))\n",
    "            index += 2\n",
    "    else:\n",
    "        if m %2 == 1:\n",
    "            collection_V = collection_V[1:]\n",
    "        for i in range(m//2):\n",
    "            slides_fromVerticals.append(Slide([collection_V[m - 1 - i], collection_V[i]]))\n",
    "    \n",
    "    slides_fromHorizontals = [Slide([photo]) for photo in collection_H]\n",
    "    jb.dump(collection_V, \"collection_V_{}.joblib\".format(filename))\n",
    "    jb.dump(collection_H, \"collection_H_{}.joblib\".format(filename))\n",
    "    jb.dump(slides_fromVerticals, \"slides_fromVerticals_{}_{}.joblib\".format(groupby,filename))\n",
    "    jb.dump(slides_fromHorizontals, \"slides_fromHorizontals_{}.joblib\".format(filename))\n",
    "    return slides_fromVerticals, slides_fromHorizontals\n",
    "\n",
    "def get_horizontals_from_file(filename, groupby=\"average\"):\n",
    "    return jb.load(\"slides_fromVerticals_{}_{}.joblib\".format(groupby, filename)), jb.load(\"slides_fromHorizontals_{}.joblib\".format(filename))"
   ]
  },
  {
   "cell_type": "code",
   "execution_count": 45,
   "metadata": {},
   "outputs": [],
   "source": [
    "import input_output as io\n",
    "\n",
    "filename = \"c_memorable_moments.txt\"\n",
    "photos = io.read(filename)\n",
    "# photos = io.read(\"d_pet_pictures.txt\")\n",
    "slides_fromVerticals, slides_fromHorizontals = get_horizontals_from_collection(photos, filename=filename, groupby=\"average\")"
   ]
  },
  {
   "cell_type": "code",
   "execution_count": 46,
   "metadata": {},
   "outputs": [
    {
     "data": {
      "text/plain": [
       "250"
      ]
     },
     "execution_count": 46,
     "metadata": {},
     "output_type": "execute_result"
    }
   ],
   "source": [
    "len(slides_fromVerticals)"
   ]
  },
  {
   "cell_type": "code",
   "execution_count": 47,
   "metadata": {},
   "outputs": [
    {
     "data": {
      "text/plain": [
       "500"
      ]
     },
     "execution_count": 47,
     "metadata": {},
     "output_type": "execute_result"
    }
   ],
   "source": [
    "len(slides_fromHorizontals)"
   ]
  },
  {
   "cell_type": "code",
   "execution_count": 36,
   "metadata": {},
   "outputs": [
    {
     "data": {
      "text/plain": [
       "[1, 2, '&', 3, 4, 'c']"
      ]
     },
     "execution_count": 36,
     "metadata": {},
     "output_type": "execute_result"
    }
   ],
   "source": [
    "[ 1, 2, \"&\"] + [3, 4, \"c\"]"
   ]
  },
  {
   "cell_type": "code",
   "execution_count": 51,
   "metadata": {},
   "outputs": [],
   "source": [
    "#Final\n",
    "import input_output as io\n",
    "photos = io.read(\"c_memorable_moments.txt\")\n",
    "slides_fromVerticals, slides_fromHorizontals = get_horizontals_from_collection(photos, groupby=\"average\")\n",
    "slides = slides_fromVerticals + slides_fromHorizontals"
   ]
  },
  {
   "cell_type": "code",
   "execution_count": 70,
   "metadata": {},
   "outputs": [],
   "source": [
    "slideshow = SlideShow(slides[:10] + slides[-10:], 0)\n",
    "write_Slideshow_to_file(slideshow, output_name = \"sexybaby.txt\")"
   ]
  },
  {
   "cell_type": "code",
   "execution_count": null,
   "metadata": {},
   "outputs": [],
   "source": [
    "def order_batches(batches):\n",
    "    batches_reduces = batches[1:].copy()\n",
    "    batch_built = (batches[0], length)\n",
    "    while batch_built[1] < len(bathes):\n",
    "        IF_current = 0\n",
    "        order = 0\n",
    "        batch_ID_current = -1\n",
    "        for batch_id in batches_reduced:\n",
    "            IF1 = calc_interest(batch)"
   ]
  }
 ],
 "metadata": {
  "kernelspec": {
   "display_name": "Python 3",
   "language": "python",
   "name": "python3"
  },
  "language_info": {
   "codemirror_mode": {
    "name": "ipython",
    "version": 3
   },
   "file_extension": ".py",
   "mimetype": "text/x-python",
   "name": "python",
   "nbconvert_exporter": "python",
   "pygments_lexer": "ipython3",
   "version": "3.6.4"
  }
 },
 "nbformat": 4,
 "nbformat_minor": 2
}
