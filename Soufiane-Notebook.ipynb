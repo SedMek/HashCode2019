{
 "cells": [
  {
   "cell_type": "code",
   "execution_count": 9,
   "metadata": {},
   "outputs": [],
   "source": [
    "from classes import *"
   ]
  },
  {
   "cell_type": "code",
   "execution_count": null,
   "metadata": {},
   "outputs": [],
   "source": []
  },
  {
   "cell_type": "code",
   "execution_count": 80,
   "metadata": {},
   "outputs": [],
   "source": [
    "class Graph:\n",
    "    def __init__(self, slides):\n",
    "        self.n = len(slides)\n",
    "        self.graph = []\n",
    "        self.slides = slides\n",
    "        \n",
    "    def update(self):\n",
    "        for i in range(self.n):\n",
    "            for j in range(i+1, self.n):\n",
    "                self.graph.append([i, j, - self.weight(i, j)])\n",
    "            \n",
    "    def weight(self, i, j):\n",
    "        tags_s1 = self.slides[i].tags\n",
    "        tags_s2 = self.slides[j].tags\n",
    "        inter = len(tags_s1.intersection(tags_s2))\n",
    "        diff12 = len(tags_s1.difference(tags_s2))\n",
    "        diff21 = len(tags_s2.difference(tags_s1))\n",
    "        return min(inter, diff12, diff21)\n",
    "    \n",
    "    # A utility function to find set of an element i \n",
    "    # (uses path compression technique) \n",
    "    def find(self, parent, i): \n",
    "        if parent[i] == i: \n",
    "            return i \n",
    "        return self.find(parent, parent[i]) \n",
    "  \n",
    "    # A function that does union of two sets of x and y \n",
    "    # (uses union by rank) \n",
    "    def union(self, parent, rank, x, y): \n",
    "        xroot = self.find(parent, x) \n",
    "        yroot = self.find(parent, y) \n",
    "  \n",
    "        # Attach smaller rank tree under root of  \n",
    "        # high rank tree (Union by Rank) \n",
    "        if rank[xroot] < rank[yroot]: \n",
    "            parent[xroot] = yroot \n",
    "        elif rank[xroot] > rank[yroot]: \n",
    "            parent[yroot] = xroot \n",
    "  \n",
    "        # If ranks are same, then make one as root  \n",
    "        # and increment its rank by one \n",
    "        else : \n",
    "            parent[yroot] = xroot \n",
    "            rank[xroot] += 1\n",
    "    \n",
    "    # https://www.supinfo.com/cours/2GRA/chapitres/05-arbres-couvrants-poids-minimal\n",
    "    def Kruskal(self): \n",
    "        result = [] # This will store the resultant MST \n",
    "  \n",
    "        i = 0 # An index variable, used for sorted edges \n",
    "        e = 0 # An index variable, used for result[] \n",
    "  \n",
    "        # Step 1:  Sort all the edges in non-decreasing order of their weight. \n",
    "        self.graph =  sorted(self.graph, key=lambda item: item[2]) \n",
    "  \n",
    "        parent = []\n",
    "        rank = [] \n",
    "  \n",
    "        # Create V subsets with single elements \n",
    "        for node in range(self.n): \n",
    "            parent.append(node) \n",
    "            rank.append(0) \n",
    "      \n",
    "        # Number of edges to be taken is equal to n-1 \n",
    "        while e < self.n -1 : \n",
    "            # Step 2: Pick the smallest edge and increment the index for next iteration \n",
    "            slide1, slide2, i_f =  self.graph[i] \n",
    "            i += 1\n",
    "            x = self.find(parent, slide1) \n",
    "            y = self.find(parent, slide2) \n",
    "  \n",
    "            # If including this edge does't cause cycle, \n",
    "            # include it in result and increment the index of result for next edge \n",
    "            if x != y: \n",
    "                e += 1     \n",
    "                result.append([slide1, slide2, i_f]) \n",
    "                self.union(parent, rank, x, y)             \n",
    "            # Else discard the edge \n",
    "            \n",
    "        # print the contents of result[] to display the built MST \n",
    "        print(\"Following are the edges in the constructed MST\")\n",
    "        for slide1, slide2, i_f in result:\n",
    "            print(\"%d -- %d == %d\" % (slide1, slide2, -i_f))\n",
    "  \n",
    "        k = 1 # An index variable, used to return the output\n",
    "        dejavu = []\n",
    "        output = str(self.n)+\"\\n\"\n",
    "        for slide1, slide2, i_f in result:\n",
    "            if (slide1 not in dejavu):\n",
    "                dejavu.append(slide1)\n",
    "                output += \" \".join([str(idd) for idd in self.slides[slide1].id])+\"\\n\"\n",
    "            if (slide2 not in dejavu):\n",
    "                dejavu.append(slide2)\n",
    "                output += \" \".join([str(idd) for idd in self.slides[slide2].id])+\"\\n\"\n",
    "        \n",
    "        print(\"-- The output is: --\")\n",
    "        print(output)"
   ]
  },
  {
   "cell_type": "code",
   "execution_count": null,
   "metadata": {},
   "outputs": [],
   "source": []
  },
  {
   "cell_type": "code",
   "execution_count": 82,
   "metadata": {},
   "outputs": [],
   "source": [
    "PATH = 'input/'\n",
    "\n",
    "\n",
    "def read(filename):\n",
    "    with open(PATH + filename) as f:\n",
    "        content = f.readline()\n",
    "        N = int(content.strip())\n",
    "\n",
    "\n",
    "        content = f.readlines()\n",
    "        photos = []\n",
    "        for line in content:\n",
    "            line = line.strip().split(\" \")\n",
    "            photo = Photo(line[0], line[2:])\n",
    "            photos.append(photo)\n",
    "        return N, photos"
   ]
  },
  {
   "cell_type": "code",
   "execution_count": null,
   "metadata": {},
   "outputs": [],
   "source": []
  },
  {
   "cell_type": "code",
   "execution_count": 83,
   "metadata": {},
   "outputs": [
    {
     "name": "stdout",
     "output_type": "stream",
     "text": [
      "(4, [<classes.Photo object at 0x103ecf518>, <classes.Photo object at 0x103ecf390>, <classes.Photo object at 0x103ecffd0>, <classes.Photo object at 0x103f0e588>])\n"
     ]
    }
   ],
   "source": [
    "print(read(\"a_example.txt\"))"
   ]
  },
  {
   "cell_type": "code",
   "execution_count": 84,
   "metadata": {},
   "outputs": [],
   "source": [
    "N, photos = read(\"a_example.txt\")"
   ]
  },
  {
   "cell_type": "code",
   "execution_count": 85,
   "metadata": {},
   "outputs": [],
   "source": [
    "slide1 = Slide(photos[0:1])\n",
    "slide2 = Slide(photos[1:3])\n",
    "slide3 = Slide(photos[3:])\n",
    "slides = [slide1, slide2, slide3]"
   ]
  },
  {
   "cell_type": "code",
   "execution_count": null,
   "metadata": {},
   "outputs": [],
   "source": []
  },
  {
   "cell_type": "code",
   "execution_count": 86,
   "metadata": {},
   "outputs": [],
   "source": [
    "graph = Graph(slides)"
   ]
  },
  {
   "cell_type": "code",
   "execution_count": 87,
   "metadata": {},
   "outputs": [],
   "source": [
    "graph.update()"
   ]
  },
  {
   "cell_type": "code",
   "execution_count": 88,
   "metadata": {},
   "outputs": [
    {
     "name": "stdout",
     "output_type": "stream",
     "text": [
      "Following are the edges in the constructed MST\n",
      "0 -- 2 == 1\n",
      "1 -- 2 == 1\n",
      "-- The output is: --\n",
      "3\n",
      "60\n",
      "63\n",
      "61 62\n",
      "\n"
     ]
    }
   ],
   "source": [
    "graph.Kruskal()"
   ]
  },
  {
   "cell_type": "code",
   "execution_count": null,
   "metadata": {},
   "outputs": [],
   "source": []
  },
  {
   "cell_type": "code",
   "execution_count": null,
   "metadata": {},
   "outputs": [],
   "source": []
  },
  {
   "cell_type": "code",
   "execution_count": null,
   "metadata": {},
   "outputs": [],
   "source": []
  },
  {
   "cell_type": "code",
   "execution_count": null,
   "metadata": {},
   "outputs": [],
   "source": []
  },
  {
   "cell_type": "code",
   "execution_count": null,
   "metadata": {},
   "outputs": [],
   "source": []
  }
 ],
 "metadata": {
  "kernelspec": {
   "display_name": "Python 3",
   "language": "python",
   "name": "python3"
  },
  "language_info": {
   "codemirror_mode": {
    "name": "ipython",
    "version": 3
   },
   "file_extension": ".py",
   "mimetype": "text/x-python",
   "name": "python",
   "nbconvert_exporter": "python",
   "pygments_lexer": "ipython3",
   "version": "3.6.4"
  }
 },
 "nbformat": 4,
 "nbformat_minor": 2
}
